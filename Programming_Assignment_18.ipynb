{
 "cells": [
  {
   "cell_type": "markdown",
   "metadata": {},
   "source": [
    "Question Bank : https://drive.google.com/file/d/1M4TrgsdcMxEAbT5_R_J2GsJSxYXgatYs/view"
   ]
  },
  {
   "cell_type": "markdown",
   "metadata": {},
   "source": [
    "<b>Q.1 Create a function that takes a list of non-negative integers and strings and return a new list\n",
    "without the strings."
   ]
  },
  {
   "cell_type": "code",
   "execution_count": 2,
   "metadata": {},
   "outputs": [],
   "source": [
    "def filter_list(list_):\n",
    "    try:\n",
    "        return [i for i in list_ if(type(i)==int)]\n",
    "    except Exception as e:\n",
    "        return e"
   ]
  },
  {
   "cell_type": "code",
   "execution_count": 4,
   "metadata": {},
   "outputs": [
    {
     "data": {
      "text/plain": [
       "[1, 2]"
      ]
     },
     "execution_count": 4,
     "metadata": {},
     "output_type": "execute_result"
    }
   ],
   "source": [
    "filter_list([1,2,'a','b',\"123\"])"
   ]
  },
  {
   "cell_type": "markdown",
   "metadata": {},
   "source": [
    "<b>Q.2 The &quot;Reverser&quot; takes a string as input and returns that string in reverse order, with the\n",
    "opposite case."
   ]
  },
  {
   "cell_type": "code",
   "execution_count": 21,
   "metadata": {},
   "outputs": [],
   "source": [
    "def Reverse(string):\n",
    "    try:\n",
    "        list_ = []\n",
    "        for i in string:\n",
    "            if i.islower():\n",
    "                list_.append(i.upper())\n",
    "            elif i.isupper():\n",
    "                list_.append(i.lower())\n",
    "            else:\n",
    "                list_.append(i)\n",
    "        return \"\".join(list_)[::-1]   \n",
    "    except Exception as e:\n",
    "        return e"
   ]
  },
  {
   "cell_type": "code",
   "execution_count": 22,
   "metadata": {},
   "outputs": [
    {
     "data": {
      "text/plain": [
       "'DLROw OLLEh'"
      ]
     },
     "execution_count": 22,
     "metadata": {},
     "output_type": "execute_result"
    }
   ],
   "source": [
    "Reverse('Hello World')"
   ]
  },
  {
   "cell_type": "markdown",
   "metadata": {},
   "source": [
    "<b>Q.3 With Python 3, you can assign variables from lists in a much more succinct way. Create\n",
    "variables first, middle and last from the given list using destructuring assignment\n",
    "(check the Resources tab for some examples), where:\n",
    "first ➞ 1\n",
    "middle ➞ [2, 3, 4, 5]\n",
    "last ➞ 6\n",
    "\n",
    "Your task is to unpack the list writeyourcodehere into three variables, being first,\n",
    "middle, and last, with middle being everything in between the first and last element. Then\n",
    "print all three variables."
   ]
  },
  {
   "cell_type": "code",
   "execution_count": 3,
   "metadata": {},
   "outputs": [],
   "source": [
    "def destructuring(writeyourcodehere):\n",
    "    try:\n",
    "        first, middle, last = writeyourcodehere[0],writeyourcodehere[:-2], writeyourcodehere[-1]\n",
    "        print(\"first --> {}\".format(first))\n",
    "        print(\"middle --> {}\".format(middle))\n",
    "        print(\"last --> {}\".format(last))\n",
    "    except Exception as e:\n",
    "        return e"
   ]
  },
  {
   "cell_type": "code",
   "execution_count": 4,
   "metadata": {},
   "outputs": [
    {
     "name": "stdout",
     "output_type": "stream",
     "text": [
      "first --> 1\n",
      "middle --> [1, 2, 3, 4]\n",
      "last --> 6\n"
     ]
    }
   ],
   "source": [
    "destructuring([1, 2, 3, 4, 5, 6])"
   ]
  },
  {
   "cell_type": "markdown",
   "metadata": {},
   "source": [
    "<b>Q.4 Write a function that calculates the factorial of a number recursively."
   ]
  },
  {
   "cell_type": "code",
   "execution_count": 7,
   "metadata": {},
   "outputs": [
    {
     "data": {
      "text/plain": [
       "120"
      ]
     },
     "execution_count": 7,
     "metadata": {},
     "output_type": "execute_result"
    }
   ],
   "source": [
    "def calcFactorial(n):\n",
    "    if n == 1:\n",
    "        return n\n",
    "    else:\n",
    "        return n*calcFactorial(n-1)\n",
    "\n",
    "calcFactorial(5)"
   ]
  },
  {
   "cell_type": "markdown",
   "metadata": {},
   "source": [
    "<b>Q.5 Write a function that moves all elements of one type to the end of the list."
   ]
  },
  {
   "cell_type": "code",
   "execution_count": 13,
   "metadata": {},
   "outputs": [],
   "source": [
    "def move_to_end(list_, character):\n",
    "    try:\n",
    "        list1 = []\n",
    "        for i in list_:\n",
    "            if(i==character):\n",
    "                list1.append(character)\n",
    "        return [i for i in list_ if (i!=character)] + list1\n",
    "    except Exception as e:\n",
    "        return e"
   ]
  },
  {
   "cell_type": "code",
   "execution_count": 17,
   "metadata": {},
   "outputs": [
    {
     "data": {
      "text/plain": [
       "[7, 8, 1, 3, 2, 4, 9, 9]"
      ]
     },
     "execution_count": 17,
     "metadata": {},
     "output_type": "execute_result"
    }
   ],
   "source": [
    "move_to_end([7,8,9,9,1,3,2,4],9)"
   ]
  },
  {
   "cell_type": "code",
   "execution_count": null,
   "metadata": {},
   "outputs": [],
   "source": []
  },
  {
   "cell_type": "code",
   "execution_count": null,
   "metadata": {},
   "outputs": [],
   "source": []
  },
  {
   "cell_type": "code",
   "execution_count": null,
   "metadata": {},
   "outputs": [],
   "source": []
  },
  {
   "cell_type": "code",
   "execution_count": null,
   "metadata": {},
   "outputs": [],
   "source": []
  }
 ],
 "metadata": {
  "kernelspec": {
   "display_name": "Python 3",
   "language": "python",
   "name": "python3"
  },
  "language_info": {
   "codemirror_mode": {
    "name": "ipython",
    "version": 3
   },
   "file_extension": ".py",
   "mimetype": "text/x-python",
   "name": "python",
   "nbconvert_exporter": "python",
   "pygments_lexer": "ipython3",
   "version": "3.7.6"
  }
 },
 "nbformat": 4,
 "nbformat_minor": 4
}
