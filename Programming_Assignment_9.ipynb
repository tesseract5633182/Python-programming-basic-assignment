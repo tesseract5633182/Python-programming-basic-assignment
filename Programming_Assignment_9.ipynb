{
 "cells": [
  {
   "cell_type": "markdown",
   "metadata": {},
   "source": [
    "Question bank : https://drive.google.com/file/d/1hdUGW5tzH08haEyPq8ttmK16I5POSlqp/view"
   ]
  },
  {
   "cell_type": "markdown",
   "metadata": {},
   "source": [
    "<b>Q.1 Write a Python program to check if the given number is a Disarium Number?"
   ]
  },
  {
   "cell_type": "code",
   "execution_count": 41,
   "metadata": {},
   "outputs": [],
   "source": [
    "def disarium_number_check(number):\n",
    "    try:\n",
    "        sum1 = 0\n",
    "        count = 1\n",
    "        for i in list(str(number)):\n",
    "            sum1 = sum1 + int(i)**count\n",
    "            count+=1\n",
    "        if(sum1==number):\n",
    "            return \"Disarium Number\"\n",
    "        else:\n",
    "            return \"Not Disarium Number\"\n",
    "    except Exception as e:\n",
    "        return e"
   ]
  },
  {
   "cell_type": "code",
   "execution_count": 42,
   "metadata": {},
   "outputs": [
    {
     "name": "stdout",
     "output_type": "stream",
     "text": [
      "Not Disarium Number\n",
      "Disarium Number\n"
     ]
    }
   ],
   "source": [
    "print(disarium_number_check(123))\n",
    "print(disarium_number_check(175))"
   ]
  },
  {
   "cell_type": "markdown",
   "metadata": {},
   "source": [
    "<b>Q.2 Write a Python program to print all disarium numbers between 1 to 100?"
   ]
  },
  {
   "cell_type": "code",
   "execution_count": 43,
   "metadata": {},
   "outputs": [],
   "source": [
    "def disarium_numbers(range1=101):\n",
    "    try:\n",
    "        for number in range(1,range1):\n",
    "            sum1 = 0\n",
    "            count = 1\n",
    "            for i in list(str(number)):\n",
    "                sum1 = sum1 + int(i)**count\n",
    "                count+=1\n",
    "            if(sum1==number):\n",
    "                print(number)\n",
    "    except Exception as e:\n",
    "        return e"
   ]
  },
  {
   "cell_type": "code",
   "execution_count": 44,
   "metadata": {},
   "outputs": [
    {
     "name": "stdout",
     "output_type": "stream",
     "text": [
      "1\n",
      "2\n",
      "3\n",
      "4\n",
      "5\n",
      "6\n",
      "7\n",
      "8\n",
      "9\n",
      "89\n"
     ]
    }
   ],
   "source": [
    "disarium_numbers()"
   ]
  },
  {
   "cell_type": "markdown",
   "metadata": {},
   "source": [
    "<b>Q.3 Write a Python program to check if the given number is Happy Number?"
   ]
  },
  {
   "cell_type": "code",
   "execution_count": 45,
   "metadata": {},
   "outputs": [],
   "source": [
    "def happy_number_check(number):\n",
    "    try:\n",
    "        list1 = []\n",
    "        temp_num = number\n",
    "        #count = 0\n",
    "        while(True):\n",
    "            temp_num = sum([int(i)**2 for i in str(temp_num)])\n",
    "            if(temp_num==1):\n",
    "                print(\"Happy Number\")\n",
    "                break\n",
    "            if(temp_num in list1):\n",
    "                print(\"Not a happy number\")\n",
    "                break\n",
    "            list1.append(temp_num)    \n",
    "    except Exception as e:\n",
    "        raise e    "
   ]
  },
  {
   "cell_type": "code",
   "execution_count": 46,
   "metadata": {
    "scrolled": true
   },
   "outputs": [
    {
     "name": "stdout",
     "output_type": "stream",
     "text": [
      "Happy Number\n",
      "Not a happy number\n"
     ]
    }
   ],
   "source": [
    "happy_number_check(23)\n",
    "happy_number_check(20)"
   ]
  },
  {
   "cell_type": "markdown",
   "metadata": {},
   "source": [
    "<b>Q.4 Write a Python program to print all happy numbers between 1 and 100?"
   ]
  },
  {
   "cell_type": "code",
   "execution_count": 47,
   "metadata": {},
   "outputs": [],
   "source": [
    "def happy_numbers():\n",
    "    try:\n",
    "        for i in range(1,101):\n",
    "            list1 = []\n",
    "            temp_num = i\n",
    "            while(True):\n",
    "                temp_num = sum([int(i)**2 for i in str(temp_num)])\n",
    "                if(temp_num==1):\n",
    "                    print(i)\n",
    "                    break\n",
    "                if(temp_num in list1):\n",
    "                    break    \n",
    "                list1.append(temp_num)        \n",
    "    except Exception as e:\n",
    "        raise e    "
   ]
  },
  {
   "cell_type": "code",
   "execution_count": 48,
   "metadata": {
    "scrolled": true
   },
   "outputs": [
    {
     "name": "stdout",
     "output_type": "stream",
     "text": [
      "1\n",
      "7\n",
      "10\n",
      "13\n",
      "19\n",
      "23\n",
      "28\n",
      "31\n",
      "32\n",
      "44\n",
      "49\n",
      "68\n",
      "70\n",
      "79\n",
      "82\n",
      "86\n",
      "91\n",
      "94\n",
      "97\n",
      "100\n"
     ]
    }
   ],
   "source": [
    "happy_numbers()"
   ]
  },
  {
   "cell_type": "markdown",
   "metadata": {},
   "source": [
    "<b>Q.5 Write a Python program to determine whether the given number is a Harshad Number?"
   ]
  },
  {
   "cell_type": "code",
   "execution_count": 50,
   "metadata": {},
   "outputs": [],
   "source": [
    "def harshad_number_check(number):\n",
    "    if(number %sum([int(i) for i in str(number)])==0):\n",
    "        return \"Harshad Number\"\n",
    "    else:\n",
    "        return \"Not a Harshad Number\""
   ]
  },
  {
   "cell_type": "code",
   "execution_count": 54,
   "metadata": {},
   "outputs": [
    {
     "name": "stdout",
     "output_type": "stream",
     "text": [
      "Harshad Number\n",
      "Not a Harshad Number\n"
     ]
    }
   ],
   "source": [
    "print(harshad_number_check(120))\n",
    "print(harshad_number_check(13))"
   ]
  },
  {
   "cell_type": "markdown",
   "metadata": {},
   "source": [
    "<b>Q.6 Write a Python program to print all pronic numbers between 1 and 100?"
   ]
  },
  {
   "cell_type": "code",
   "execution_count": 59,
   "metadata": {},
   "outputs": [],
   "source": [
    "def pronic_numbers(range1=101):\n",
    "    for i in range(1,range1):\n",
    "        print(str(i*(i+1))+\",\", end=\"\")"
   ]
  },
  {
   "cell_type": "code",
   "execution_count": 60,
   "metadata": {
    "scrolled": true
   },
   "outputs": [
    {
     "name": "stdout",
     "output_type": "stream",
     "text": [
      "2,6,12,20,30,42,56,72,90,110,132,156,182,210,240,272,306,342,380,420,462,506,552,600,650,702,756,812,870,930,992,1056,1122,1190,1260,1332,1406,1482,1560,1640,1722,1806,1892,1980,2070,2162,2256,2352,2450,2550,2652,2756,2862,2970,3080,3192,3306,3422,3540,3660,3782,3906,4032,4160,4290,4422,4556,4692,4830,4970,5112,5256,5402,5550,5700,5852,6006,6162,6320,6480,6642,6806,6972,7140,7310,7482,7656,7832,8010,8190,8372,8556,8742,8930,9120,9312,9506,9702,9900,10100,"
     ]
    }
   ],
   "source": [
    "pronic_numbers()"
   ]
  },
  {
   "cell_type": "code",
   "execution_count": null,
   "metadata": {},
   "outputs": [],
   "source": []
  }
 ],
 "metadata": {
  "kernelspec": {
   "display_name": "Python 3",
   "language": "python",
   "name": "python3"
  },
  "language_info": {
   "codemirror_mode": {
    "name": "ipython",
    "version": 3
   },
   "file_extension": ".py",
   "mimetype": "text/x-python",
   "name": "python",
   "nbconvert_exporter": "python",
   "pygments_lexer": "ipython3",
   "version": "3.7.6"
  }
 },
 "nbformat": 4,
 "nbformat_minor": 4
}
